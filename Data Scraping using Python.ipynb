{
 "cells": [
  {
   "cell_type": "markdown",
   "metadata": {},
   "source": [
    "# Data Scraping Using Python (BeautifulSoup and Requests)"
   ]
  },
  {
   "cell_type": "code",
   "execution_count": 1,
   "metadata": {},
   "outputs": [],
   "source": [
    "# Import necessary libraries for web scraping and data handling\n",
    "from bs4 import BeautifulSoup\n",
    "import requests\n",
    "import pandas as pd"
   ]
  },
  {
   "cell_type": "code",
   "execution_count": 2,
   "metadata": {},
   "outputs": [],
   "source": [
    "# Fetch the page and parse it\n",
    "url = 'https://en.wikipedia.org/wiki/World_population'\n",
    "page = requests.get(url)\n",
    "soup = BeautifulSoup(page.text, 'html.parser')"
   ]
  },
  {
   "cell_type": "code",
   "execution_count": 3,
   "metadata": {},
   "outputs": [],
   "source": [
    "# Find the first table element on the webpage\n",
    "t1 = soup.find('table')"
   ]
  },
  {
   "cell_type": "code",
   "execution_count": 4,
   "metadata": {},
   "outputs": [],
   "source": [
    "# Find the first table element with a specific class name\n",
    "# This retrieves the first <table> tag that has the class 'wikitable sortable'.\n",
    "# The 'class_' parameter is used to specify the class attribute (since 'class' is a reserved keyword in Python).\n",
    "t2 = soup.find('table', class_='wikitable sortable')  # Retrieves the first table with the specified class"
   ]
  },
  {
   "cell_type": "code",
   "execution_count": 5,
   "metadata": {},
   "outputs": [],
   "source": [
    "# Find all table elements on the page\n",
    "# This will return a list of all <table> tags present in the HTML content.\n",
    "# The index [9] retrieves the tenth table in the list (since indexing starts at 0).\n",
    "table = soup.find_all('table')[9]  # Retrieves the second <table> tag from the page"
   ]
  },
  {
   "cell_type": "code",
   "execution_count": 6,
   "metadata": {},
   "outputs": [
    {
     "name": "stdout",
     "output_type": "stream",
     "text": [
      "<table class=\"wikitable sortable\" style=\"text-align:right\">\n",
      "<caption>Countries ranking highly in both total population <small>(more than 20 million people)</small> and population density <small>(more than 250 people per square kilometer)</small><sup class=\"reference\" id=\"cite_ref-:10_104-1\"><a href=\"#cite_note-:10-104\"><span class=\"cite-bracket\">[</span>99<span class=\"cite-bracket\">]</span></a></sup>\n",
      "</caption>\n",
      "<tbody><tr>\n",
      "<th scope=\"col\">Rank\n",
      "</th>\n",
      "<th scope=\"col\">Country\n",
      "</th>\n",
      "<th scope=\"col\">Population\n",
      "</th>\n",
      "<th scope=\"col\">Area<br/><small>(km<sup>2</sup>)</small>\n",
      "</th>\n",
      "<th scope=\"col\">Density<br/><small>(pop/km<sup>2</sup>)</small>\n",
      "</th>\n",
      "<th scope=\"col\">Population <br/> trend<sup class=\"noprint Inline-Template Template-Fact\" style=\"white-space:nowrap;\">[<i><a href=\"/wiki/Wikipedia:Citation_needed\" title=\"Wikipedia:Citation needed\"><span title=\"This claim needs references to reliable sources. (November 2022)\">citation needed</span></a></i>]</sup>\n",
      "</th></tr>\n",
      "<tr>\n",
      "<td>1</td>\n",
      "<td align=\"left\"><span class=\"flagicon\"><span class=\"mw-image-border\" typeof=\"mw:File\"><span><img alt=\"\" class=\"mw-file-element\" data-file-height=\"600\" data-file-width=\"900\" decoding=\"async\" height=\"15\" src=\"//upload.wikimedia.org/wikipedia/en/thumb/4/41/Flag_of_India.svg/23px-Flag_of_India.svg.png\" srcset=\"//upload.wikimedia.org/wikipedia/en/thumb/4/41/Flag_of_India.svg/35px-Flag_of_India.svg.png 1.5x, //upload.wikimedia.org/wikipedia/en/thumb/4/41/Flag_of_India.svg/45px-Flag_of_India.svg.png 2x\" width=\"23\"/></span></span> </span><a href=\"/wiki/India\" title=\"India\">India</a>\n",
      "</td>\n",
      "<td>1,389,637,446\n",
      "</td>\n",
      "<td>3,287,263</td>\n",
      "<td>423\n",
      "</td>\n",
      "<td>Growing\n",
      "</td></tr>\n",
      "<tr>\n",
      "<td>2</td>\n",
      "<td align=\"left\"><span class=\"flagicon\"><span class=\"mw-image-border\" typeof=\"mw:File\"><span><img alt=\"\" class=\"mw-file-element\" data-file-height=\"600\" data-file-width=\"900\" decoding=\"async\" height=\"15\" src=\"//upload.wikimedia.org/wikipedia/commons/thumb/3/32/Flag_of_Pakistan.svg/23px-Flag_of_Pakistan.svg.png\" srcset=\"//upload.wikimedia.org/wikipedia/commons/thumb/3/32/Flag_of_Pakistan.svg/35px-Flag_of_Pakistan.svg.png 1.5x, //upload.wikimedia.org/wikipedia/commons/thumb/3/32/Flag_of_Pakistan.svg/45px-Flag_of_Pakistan.svg.png 2x\" width=\"23\"/></span></span> </span><a href=\"/wiki/Pakistan\" title=\"Pakistan\">Pakistan</a>\n",
      "</td>\n",
      "<td>242,923,845\n",
      "</td>\n",
      "<td>796,095</td>\n",
      "<td>305\n",
      "</td>\n",
      "<td>Rapidly growing\n",
      "</td></tr>\n",
      "<tr>\n",
      "<td>3</td>\n",
      "<td align=\"left\"><span class=\"flagicon\"><span class=\"mw-image-border\" typeof=\"mw:File\"><span><img alt=\"\" class=\"mw-file-element\" data-file-height=\"600\" data-file-width=\"1000\" decoding=\"async\" height=\"14\" src=\"//upload.wikimedia.org/wikipedia/commons/thumb/f/f9/Flag_of_Bangladesh.svg/23px-Flag_of_Bangladesh.svg.png\" srcset=\"//upload.wikimedia.org/wikipedia/commons/thumb/f/f9/Flag_of_Bangladesh.svg/35px-Flag_of_Bangladesh.svg.png 1.5x, //upload.wikimedia.org/wikipedia/commons/thumb/f/f9/Flag_of_Bangladesh.svg/46px-Flag_of_Bangladesh.svg.png 2x\" width=\"23\"/></span></span> </span><a href=\"/wiki/Bangladesh\" title=\"Bangladesh\">Bangladesh</a>\n",
      "</td>\n",
      "<td>165,650,475\n",
      "</td>\n",
      "<td>148,460</td>\n",
      "<td>1,116\n",
      "</td>\n",
      "<td>Growing\n",
      "</td></tr>\n",
      "<tr>\n",
      "<td>4</td>\n",
      "<td align=\"left\"><span class=\"flagicon\"><span class=\"mw-image-border\" typeof=\"mw:File\"><span><img alt=\"\" class=\"mw-file-element\" data-file-height=\"600\" data-file-width=\"900\" decoding=\"async\" height=\"15\" src=\"//upload.wikimedia.org/wikipedia/en/thumb/9/9e/Flag_of_Japan.svg/23px-Flag_of_Japan.svg.png\" srcset=\"//upload.wikimedia.org/wikipedia/en/thumb/9/9e/Flag_of_Japan.svg/35px-Flag_of_Japan.svg.png 1.5x, //upload.wikimedia.org/wikipedia/en/thumb/9/9e/Flag_of_Japan.svg/45px-Flag_of_Japan.svg.png 2x\" width=\"23\"/></span></span> </span><a href=\"/wiki/Japan\" title=\"Japan\">Japan</a></td>\n",
      "<td>124,214,766</td>\n",
      "<td>377,915</td>\n",
      "<td>329</td>\n",
      "<td>Declining<sup class=\"reference\" id=\"cite_ref-BigDecline_108-0\"><a href=\"#cite_note-BigDecline-108\"><span class=\"cite-bracket\">[</span>101<span class=\"cite-bracket\">]</span></a></sup>\n",
      "</td></tr>\n",
      "<tr>\n",
      "<td>5</td>\n",
      "<td align=\"left\"><span class=\"flagicon\"><span class=\"mw-image-border\" typeof=\"mw:File\"><span><img alt=\"\" class=\"mw-file-element\" data-file-height=\"600\" data-file-width=\"1200\" decoding=\"async\" height=\"12\" src=\"//upload.wikimedia.org/wikipedia/commons/thumb/9/99/Flag_of_the_Philippines.svg/23px-Flag_of_the_Philippines.svg.png\" srcset=\"//upload.wikimedia.org/wikipedia/commons/thumb/9/99/Flag_of_the_Philippines.svg/35px-Flag_of_the_Philippines.svg.png 1.5x, //upload.wikimedia.org/wikipedia/commons/thumb/9/99/Flag_of_the_Philippines.svg/46px-Flag_of_the_Philippines.svg.png 2x\" width=\"23\"/></span></span> </span><a href=\"/wiki/Philippines\" title=\"Philippines\">Philippines</a>\n",
      "</td>\n",
      "<td>114,597,229\n",
      "</td>\n",
      "<td>300,000</td>\n",
      "<td>382\n",
      "</td>\n",
      "<td>Growing\n",
      "</td></tr>\n",
      "<tr>\n",
      "<td>6</td>\n",
      "<td align=\"left\"><span class=\"flagicon\"><span class=\"mw-image-border\" typeof=\"mw:File\"><span><img alt=\"\" class=\"mw-file-element\" data-file-height=\"600\" data-file-width=\"900\" decoding=\"async\" height=\"15\" src=\"//upload.wikimedia.org/wikipedia/commons/thumb/2/21/Flag_of_Vietnam.svg/23px-Flag_of_Vietnam.svg.png\" srcset=\"//upload.wikimedia.org/wikipedia/commons/thumb/2/21/Flag_of_Vietnam.svg/35px-Flag_of_Vietnam.svg.png 1.5x, //upload.wikimedia.org/wikipedia/commons/thumb/2/21/Flag_of_Vietnam.svg/45px-Flag_of_Vietnam.svg.png 2x\" width=\"23\"/></span></span> </span><a href=\"/wiki/Vietnam\" title=\"Vietnam\">Vietnam</a></td>\n",
      "<td>103,808,319</td>\n",
      "<td>331,210</td>\n",
      "<td>313</td>\n",
      "<td>Growing\n",
      "</td></tr>\n",
      "<tr>\n",
      "<td>7</td>\n",
      "<td align=\"left\"><span class=\"flagicon\"><span class=\"mw-image-border\" typeof=\"mw:File\"><span><img alt=\"\" class=\"mw-file-element\" data-file-height=\"600\" data-file-width=\"1200\" decoding=\"async\" height=\"12\" src=\"//upload.wikimedia.org/wikipedia/en/thumb/a/ae/Flag_of_the_United_Kingdom.svg/23px-Flag_of_the_United_Kingdom.svg.png\" srcset=\"//upload.wikimedia.org/wikipedia/en/thumb/a/ae/Flag_of_the_United_Kingdom.svg/35px-Flag_of_the_United_Kingdom.svg.png 1.5x, //upload.wikimedia.org/wikipedia/en/thumb/a/ae/Flag_of_the_United_Kingdom.svg/46px-Flag_of_the_United_Kingdom.svg.png 2x\" width=\"23\"/></span></span> </span><a href=\"/wiki/United_Kingdom\" title=\"United Kingdom\">United Kingdom</a></td>\n",
      "<td>67,791,400</td>\n",
      "<td>243,610</td>\n",
      "<td>278</td>\n",
      "<td>Growing\n",
      "</td></tr>\n",
      "<tr>\n",
      "<td>8</td>\n",
      "<td align=\"left\"><span class=\"flagicon\"><span class=\"mw-image-border\" typeof=\"mw:File\"><span><img alt=\"\" class=\"mw-file-element\" data-file-height=\"600\" data-file-width=\"900\" decoding=\"async\" height=\"15\" src=\"//upload.wikimedia.org/wikipedia/commons/thumb/0/09/Flag_of_South_Korea.svg/23px-Flag_of_South_Korea.svg.png\" srcset=\"//upload.wikimedia.org/wikipedia/commons/thumb/0/09/Flag_of_South_Korea.svg/35px-Flag_of_South_Korea.svg.png 1.5x, //upload.wikimedia.org/wikipedia/commons/thumb/0/09/Flag_of_South_Korea.svg/45px-Flag_of_South_Korea.svg.png 2x\" width=\"23\"/></span></span> </span><a href=\"/wiki/South_Korea\" title=\"South Korea\">South Korea</a></td>\n",
      "<td>51,844,834</td>\n",
      "<td>99,720</td>\n",
      "<td>520</td>\n",
      "<td>Steady\n",
      "</td></tr>\n",
      "<tr>\n",
      "<td>9</td>\n",
      "<td align=\"left\"><span class=\"flagicon\"><span class=\"mw-image-border\" typeof=\"mw:File\"><span><img alt=\"\" class=\"mw-file-element\" data-file-height=\"600\" data-file-width=\"900\" decoding=\"async\" height=\"15\" src=\"//upload.wikimedia.org/wikipedia/commons/thumb/7/72/Flag_of_the_Republic_of_China.svg/23px-Flag_of_the_Republic_of_China.svg.png\" srcset=\"//upload.wikimedia.org/wikipedia/commons/thumb/7/72/Flag_of_the_Republic_of_China.svg/35px-Flag_of_the_Republic_of_China.svg.png 1.5x, //upload.wikimedia.org/wikipedia/commons/thumb/7/72/Flag_of_the_Republic_of_China.svg/45px-Flag_of_the_Republic_of_China.svg.png 2x\" width=\"23\"/></span></span> </span><a href=\"/wiki/Taiwan\" title=\"Taiwan\">Taiwan</a></td>\n",
      "<td>23,580,712</td>\n",
      "<td>35,980</td>\n",
      "<td>655</td>\n",
      "<td>Steady\n",
      "</td></tr>\n",
      "<tr>\n",
      "<td>10</td>\n",
      "<td align=\"left\"><span class=\"flagicon\"><span class=\"mw-image-border\" typeof=\"mw:File\"><span><img alt=\"\" class=\"mw-file-element\" data-file-height=\"600\" data-file-width=\"1200\" decoding=\"async\" height=\"12\" src=\"//upload.wikimedia.org/wikipedia/commons/thumb/1/11/Flag_of_Sri_Lanka.svg/23px-Flag_of_Sri_Lanka.svg.png\" srcset=\"//upload.wikimedia.org/wikipedia/commons/thumb/1/11/Flag_of_Sri_Lanka.svg/35px-Flag_of_Sri_Lanka.svg.png 1.5x, //upload.wikimedia.org/wikipedia/commons/thumb/1/11/Flag_of_Sri_Lanka.svg/46px-Flag_of_Sri_Lanka.svg.png 2x\" width=\"23\"/></span></span> </span><a href=\"/wiki/Sri_Lanka\" title=\"Sri Lanka\">Sri Lanka</a></td>\n",
      "<td>23,187,516</td>\n",
      "<td>65,610</td>\n",
      "<td>353</td>\n",
      "<td>Growing\n",
      "</td></tr></tbody></table>\n"
     ]
    }
   ],
   "source": [
    "print(table)"
   ]
  },
  {
   "cell_type": "code",
   "execution_count": 7,
   "metadata": {},
   "outputs": [],
   "source": [
    "# Extract all header cells from the table\n",
    "titles = table.find_all('th')"
   ]
  },
  {
   "cell_type": "code",
   "execution_count": 8,
   "metadata": {},
   "outputs": [
    {
     "data": {
      "text/plain": [
       "[<th scope=\"col\">Rank\n",
       " </th>,\n",
       " <th scope=\"col\">Country\n",
       " </th>,\n",
       " <th scope=\"col\">Population\n",
       " </th>,\n",
       " <th scope=\"col\">Area<br/><small>(km<sup>2</sup>)</small>\n",
       " </th>,\n",
       " <th scope=\"col\">Density<br/><small>(pop/km<sup>2</sup>)</small>\n",
       " </th>,\n",
       " <th scope=\"col\">Population <br/> trend<sup class=\"noprint Inline-Template Template-Fact\" style=\"white-space:nowrap;\">[<i><a href=\"/wiki/Wikipedia:Citation_needed\" title=\"Wikipedia:Citation needed\"><span title=\"This claim needs references to reliable sources. (November 2022)\">citation needed</span></a></i>]</sup>\n",
       " </th>]"
      ]
     },
     "execution_count": 8,
     "metadata": {},
     "output_type": "execute_result"
    }
   ],
   "source": [
    "titles"
   ]
  },
  {
   "cell_type": "code",
   "execution_count": 9,
   "metadata": {},
   "outputs": [
    {
     "name": "stdout",
     "output_type": "stream",
     "text": [
      "['Rank', 'Country', 'Population', 'Area(km2)', 'Density(pop/km2)', 'Population  trend[citation needed]']\n"
     ]
    }
   ],
   "source": [
    "# Clean and store the header text\n",
    "table_titles = [title.text.strip() for title in titles]\n",
    "\n",
    "print(table_titles)  "
   ]
  },
  {
   "cell_type": "code",
   "execution_count": 10,
   "metadata": {},
   "outputs": [],
   "source": [
    "# Create an empty DataFrame with the headers\n",
    "df = pd.DataFrame(columns=table_titles)"
   ]
  },
  {
   "cell_type": "code",
   "execution_count": 11,
   "metadata": {},
   "outputs": [
    {
     "data": {
      "text/html": [
       "<div>\n",
       "<style scoped>\n",
       "    .dataframe tbody tr th:only-of-type {\n",
       "        vertical-align: middle;\n",
       "    }\n",
       "\n",
       "    .dataframe tbody tr th {\n",
       "        vertical-align: top;\n",
       "    }\n",
       "\n",
       "    .dataframe thead th {\n",
       "        text-align: right;\n",
       "    }\n",
       "</style>\n",
       "<table border=\"1\" class=\"dataframe\">\n",
       "  <thead>\n",
       "    <tr style=\"text-align: right;\">\n",
       "      <th></th>\n",
       "      <th>Rank</th>\n",
       "      <th>Country</th>\n",
       "      <th>Population</th>\n",
       "      <th>Area(km2)</th>\n",
       "      <th>Density(pop/km2)</th>\n",
       "      <th>Population  trend[citation needed]</th>\n",
       "    </tr>\n",
       "  </thead>\n",
       "  <tbody>\n",
       "  </tbody>\n",
       "</table>\n",
       "</div>"
      ],
      "text/plain": [
       "Empty DataFrame\n",
       "Columns: [Rank, Country, Population, Area(km2), Density(pop/km2), Population  trend[citation needed]]\n",
       "Index: []"
      ]
     },
     "execution_count": 11,
     "metadata": {},
     "output_type": "execute_result"
    }
   ],
   "source": [
    "df"
   ]
  },
  {
   "cell_type": "code",
   "execution_count": 12,
   "metadata": {},
   "outputs": [],
   "source": [
    "# Find all rows (<tr>) in the table\n",
    "column_data = table.find_all('tr')"
   ]
  },
  {
   "cell_type": "code",
   "execution_count": 13,
   "metadata": {},
   "outputs": [],
   "source": [
    "# Iterate over each row (skipping the first row with headers)\n",
    "for row in column_data[1:]:\n",
    "    # Find all data cells (<td>) in the current row\n",
    "    row_data = row.find_all('td')\n",
    "    \n",
    "    # Extract and clean the text from each data cell\n",
    "    individual_row_data = [data.text.strip() for data in row_data]\n",
    "    \n",
    "    # Add the cleaned row data to the DataFrame\n",
    "    length = len(df)  # Get the current length of the DataFrame\n",
    "    df.loc[length] = individual_row_data  # Append the row to the DataFrame\n"
   ]
  },
  {
   "cell_type": "code",
   "execution_count": 14,
   "metadata": {},
   "outputs": [
    {
     "data": {
      "text/html": [
       "<div>\n",
       "<style scoped>\n",
       "    .dataframe tbody tr th:only-of-type {\n",
       "        vertical-align: middle;\n",
       "    }\n",
       "\n",
       "    .dataframe tbody tr th {\n",
       "        vertical-align: top;\n",
       "    }\n",
       "\n",
       "    .dataframe thead th {\n",
       "        text-align: right;\n",
       "    }\n",
       "</style>\n",
       "<table border=\"1\" class=\"dataframe\">\n",
       "  <thead>\n",
       "    <tr style=\"text-align: right;\">\n",
       "      <th></th>\n",
       "      <th>Rank</th>\n",
       "      <th>Country</th>\n",
       "      <th>Population</th>\n",
       "      <th>Area(km2)</th>\n",
       "      <th>Density(pop/km2)</th>\n",
       "      <th>Population  trend[citation needed]</th>\n",
       "    </tr>\n",
       "  </thead>\n",
       "  <tbody>\n",
       "    <tr>\n",
       "      <th>0</th>\n",
       "      <td>1</td>\n",
       "      <td>India</td>\n",
       "      <td>1,389,637,446</td>\n",
       "      <td>3,287,263</td>\n",
       "      <td>423</td>\n",
       "      <td>Growing</td>\n",
       "    </tr>\n",
       "    <tr>\n",
       "      <th>1</th>\n",
       "      <td>2</td>\n",
       "      <td>Pakistan</td>\n",
       "      <td>242,923,845</td>\n",
       "      <td>796,095</td>\n",
       "      <td>305</td>\n",
       "      <td>Rapidly growing</td>\n",
       "    </tr>\n",
       "    <tr>\n",
       "      <th>2</th>\n",
       "      <td>3</td>\n",
       "      <td>Bangladesh</td>\n",
       "      <td>165,650,475</td>\n",
       "      <td>148,460</td>\n",
       "      <td>1,116</td>\n",
       "      <td>Growing</td>\n",
       "    </tr>\n",
       "    <tr>\n",
       "      <th>3</th>\n",
       "      <td>4</td>\n",
       "      <td>Japan</td>\n",
       "      <td>124,214,766</td>\n",
       "      <td>377,915</td>\n",
       "      <td>329</td>\n",
       "      <td>Declining[101]</td>\n",
       "    </tr>\n",
       "    <tr>\n",
       "      <th>4</th>\n",
       "      <td>5</td>\n",
       "      <td>Philippines</td>\n",
       "      <td>114,597,229</td>\n",
       "      <td>300,000</td>\n",
       "      <td>382</td>\n",
       "      <td>Growing</td>\n",
       "    </tr>\n",
       "    <tr>\n",
       "      <th>5</th>\n",
       "      <td>6</td>\n",
       "      <td>Vietnam</td>\n",
       "      <td>103,808,319</td>\n",
       "      <td>331,210</td>\n",
       "      <td>313</td>\n",
       "      <td>Growing</td>\n",
       "    </tr>\n",
       "    <tr>\n",
       "      <th>6</th>\n",
       "      <td>7</td>\n",
       "      <td>United Kingdom</td>\n",
       "      <td>67,791,400</td>\n",
       "      <td>243,610</td>\n",
       "      <td>278</td>\n",
       "      <td>Growing</td>\n",
       "    </tr>\n",
       "    <tr>\n",
       "      <th>7</th>\n",
       "      <td>8</td>\n",
       "      <td>South Korea</td>\n",
       "      <td>51,844,834</td>\n",
       "      <td>99,720</td>\n",
       "      <td>520</td>\n",
       "      <td>Steady</td>\n",
       "    </tr>\n",
       "    <tr>\n",
       "      <th>8</th>\n",
       "      <td>9</td>\n",
       "      <td>Taiwan</td>\n",
       "      <td>23,580,712</td>\n",
       "      <td>35,980</td>\n",
       "      <td>655</td>\n",
       "      <td>Steady</td>\n",
       "    </tr>\n",
       "    <tr>\n",
       "      <th>9</th>\n",
       "      <td>10</td>\n",
       "      <td>Sri Lanka</td>\n",
       "      <td>23,187,516</td>\n",
       "      <td>65,610</td>\n",
       "      <td>353</td>\n",
       "      <td>Growing</td>\n",
       "    </tr>\n",
       "  </tbody>\n",
       "</table>\n",
       "</div>"
      ],
      "text/plain": [
       "  Rank         Country     Population  Area(km2) Density(pop/km2)  \\\n",
       "0    1           India  1,389,637,446  3,287,263              423   \n",
       "1    2        Pakistan    242,923,845    796,095              305   \n",
       "2    3      Bangladesh    165,650,475    148,460            1,116   \n",
       "3    4           Japan    124,214,766    377,915              329   \n",
       "4    5     Philippines    114,597,229    300,000              382   \n",
       "5    6         Vietnam    103,808,319    331,210              313   \n",
       "6    7  United Kingdom     67,791,400    243,610              278   \n",
       "7    8     South Korea     51,844,834     99,720              520   \n",
       "8    9          Taiwan     23,580,712     35,980              655   \n",
       "9   10       Sri Lanka     23,187,516     65,610              353   \n",
       "\n",
       "  Population  trend[citation needed]  \n",
       "0                            Growing  \n",
       "1                    Rapidly growing  \n",
       "2                            Growing  \n",
       "3                     Declining[101]  \n",
       "4                            Growing  \n",
       "5                            Growing  \n",
       "6                            Growing  \n",
       "7                             Steady  \n",
       "8                             Steady  \n",
       "9                            Growing  "
      ]
     },
     "execution_count": 14,
     "metadata": {},
     "output_type": "execute_result"
    }
   ],
   "source": [
    "df"
   ]
  },
  {
   "cell_type": "code",
   "execution_count": 15,
   "metadata": {},
   "outputs": [],
   "source": [
    "# Save the DataFrame to a CSV file without including the index column\n",
    "df.to_csv('World_population.csv', index=False)\n"
   ]
  },
  {
   "cell_type": "code",
   "execution_count": null,
   "metadata": {},
   "outputs": [],
   "source": []
  }
 ],
 "metadata": {
  "kernelspec": {
   "display_name": "Python 3",
   "language": "python",
   "name": "python3"
  },
  "language_info": {
   "codemirror_mode": {
    "name": "ipython",
    "version": 3
   },
   "file_extension": ".py",
   "mimetype": "text/x-python",
   "name": "python",
   "nbconvert_exporter": "python",
   "pygments_lexer": "ipython3",
   "version": "3.12.8"
  }
 },
 "nbformat": 4,
 "nbformat_minor": 2
}
