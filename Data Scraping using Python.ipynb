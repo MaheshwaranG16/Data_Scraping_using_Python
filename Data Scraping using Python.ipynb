{
 "cells": [
  {
   "cell_type": "markdown",
   "metadata": {},
   "source": [
    "# Data Scraping Using Python (BeautifulSoup and Requests)"
   ]
  },
  {
   "cell_type": "code",
   "execution_count": 1,
   "metadata": {},
   "outputs": [],
   "source": [
    "# Import necessary libraries for web scraping and data handling\n",
    "from bs4 import BeautifulSoup\n",
    "import requests\n",
    "import pandas as pd"
   ]
  },
  {
   "cell_type": "code",
   "execution_count": 2,
   "metadata": {},
   "outputs": [],
   "source": [
    "# Fetch the page and parse it\n",
    "url = 'https://en.wikipedia.org/wiki/List_of_largest_companies_in_the_United_States_by_revenue'\n",
    "page = requests.get(url)\n",
    "soup = BeautifulSoup(page.text, 'html.parser')"
   ]
  },
  {
   "cell_type": "code",
   "execution_count": 3,
   "metadata": {},
   "outputs": [],
   "source": [
    "# Find the first table element on the webpage\n",
    "t1 = soup.find('table')"
   ]
  },
  {
   "cell_type": "code",
   "execution_count": 4,
   "metadata": {},
   "outputs": [],
   "source": [
    "# Find the first table element with a specific class name\n",
    "# This retrieves the first <table> tag that has the class 'wikitable sortable'.\n",
    "# The 'class_' parameter is used to specify the class attribute (since 'class' is a reserved keyword in Python).\n",
    "t2 = soup.find('table', class_='wikitable sortable')  # Retrieves the first table with the specified class"
   ]
  },
  {
   "cell_type": "code",
   "execution_count": 5,
   "metadata": {},
   "outputs": [],
   "source": [
    "# Find all table elements on the page\n",
    "# This will return a list of all <table> tags present in the HTML content.\n",
    "# The index [1] retrieves the second table in the list (since indexing starts at 0).\n",
    "table = soup.find_all('table')[1]  # Retrieves the second <table> tag from the page"
   ]
  },
  {
   "cell_type": "code",
   "execution_count": 6,
   "metadata": {},
   "outputs": [
    {
     "name": "stdout",
     "output_type": "stream",
     "text": [
      "<table class=\"wikitable sortable\">\n",
      "<tbody><tr>\n",
      "<th>Rank\n",
      "</th>\n",
      "<th>Name\n",
      "</th>\n",
      "<th>Industry\n",
      "</th>\n",
      "<th>Revenue <br/>(USD billions)\n",
      "</th>\n",
      "<th>Employees\n",
      "</th>\n",
      "<th>Headquarters\n",
      "</th></tr>\n",
      "<tr>\n",
      "<td>1\n",
      "</td>\n",
      "<td><a href=\"/wiki/Cargill\" title=\"Cargill\">Cargill</a>\n",
      "</td>\n",
      "<td>Food industry\n",
      "</td>\n",
      "<td style=\"text-align:center;\">177\n",
      "</td>\n",
      "<td style=\"text-align:center;\">160,000\n",
      "</td>\n",
      "<td><a href=\"/wiki/Minnetonka,_Minnesota\" title=\"Minnetonka, Minnesota\">Minnetonka, Minnesota</a>\n",
      "</td></tr>\n",
      "<tr>\n",
      "<td>2\n",
      "</td>\n",
      "<td><a class=\"mw-redirect\" href=\"/wiki/Koch_Industries\" title=\"Koch Industries\">Koch Industries</a>\n",
      "</td>\n",
      "<td>Conglomerate\n",
      "</td>\n",
      "<td style=\"text-align:center;\">125\n",
      "</td>\n",
      "<td style=\"text-align:center;\">120,000\n",
      "</td>\n",
      "<td><a href=\"/wiki/Wichita,_Kansas\" title=\"Wichita, Kansas\">Wichita, Kansas</a>\n",
      "</td></tr>\n",
      "<tr>\n",
      "<td>3\n",
      "</td>\n",
      "<td><a class=\"mw-redirect\" href=\"/wiki/Publix_Super_Markets\" title=\"Publix Super Markets\">Publix Super Markets</a>\n",
      "</td>\n",
      "<td>Retail\n",
      "</td>\n",
      "<td style=\"text-align:center;\">54.5\n",
      "</td>\n",
      "<td style=\"text-align:center;\">250,000\n",
      "</td>\n",
      "<td>Lakeland, Florida\n",
      "</td></tr>\n",
      "<tr>\n",
      "<td>4\n",
      "</td>\n",
      "<td><a class=\"mw-redirect\" href=\"/wiki/Mars,_Incorporated\" title=\"Mars, Incorporated\">Mars, Incorporated</a>\n",
      "</td>\n",
      "<td>Food industry\n",
      "</td>\n",
      "<td style=\"text-align:center;\">47\n",
      "</td>\n",
      "<td style=\"text-align:center;\">140,000\n",
      "</td>\n",
      "<td><a href=\"/wiki/McLean,_Virginia\" title=\"McLean, Virginia\">McLean, Virginia</a>\n",
      "</td></tr>\n",
      "<tr>\n",
      "<td>5\n",
      "</td>\n",
      "<td><a href=\"/wiki/H-E-B\" title=\"H-E-B\">H-E-B</a>\n",
      "</td>\n",
      "<td>Retail\n",
      "</td>\n",
      "<td style=\"text-align:center;\">43.6\n",
      "</td>\n",
      "<td style=\"text-align:center;\">145,000\n",
      "</td>\n",
      "<td><a class=\"mw-redirect\" href=\"/wiki/San_Antonio,_Texas\" title=\"San Antonio, Texas\">San Antonio, Texas</a>\n",
      "</td></tr>\n",
      "<tr>\n",
      "<td>6\n",
      "</td>\n",
      "<td><a href=\"/wiki/Reyes_Holdings\" title=\"Reyes Holdings\">Reyes Holdings</a>\n",
      "</td>\n",
      "<td><a href=\"/wiki/Wholesaling\" title=\"Wholesaling\">Wholesaling</a>\n",
      "</td>\n",
      "<td style=\"text-align:center;\">40\n",
      "</td>\n",
      "<td style=\"text-align:center;\">36,000\n",
      "</td>\n",
      "<td><a href=\"/wiki/Rosemont,_Illinois\" title=\"Rosemont, Illinois\">Rosemont, Illinois</a>\n",
      "</td></tr>\n",
      "<tr>\n",
      "<td>7\n",
      "</td>\n",
      "<td><a href=\"/wiki/Enterprise_Holdings\" title=\"Enterprise Holdings\">Enterprise Holdings</a>\n",
      "</td>\n",
      "<td><a href=\"/wiki/Car_rental\" title=\"Car rental\">Car rental</a>\n",
      "</td>\n",
      "<td style=\"text-align:center;\">35\n",
      "</td>\n",
      "<td style=\"text-align:center;\">90,000\n",
      "</td>\n",
      "<td><a href=\"/wiki/Clayton,_Missouri\" title=\"Clayton, Missouri\">Clayton, Missouri</a>\n",
      "</td></tr>\n",
      "<tr>\n",
      "<td>8\n",
      "</td>\n",
      "<td><a href=\"/wiki/C%26S_Wholesale_Grocers\" title=\"C&amp;S Wholesale Grocers\">C&amp;S Wholesale Grocers</a>\n",
      "</td>\n",
      "<td>Wholesaling\n",
      "</td>\n",
      "<td style=\"text-align:center;\">34.7\n",
      "</td>\n",
      "<td style=\"text-align:center;\">15,000\n",
      "</td>\n",
      "<td><a href=\"/wiki/Keene,_New_Hampshire\" title=\"Keene, New Hampshire\">Keene, New Hampshire</a>\n",
      "</td></tr>\n",
      "<tr>\n",
      "<td>9\n",
      "</td>\n",
      "<td><a href=\"/wiki/Love%27s\" title=\"Love's\">Love's</a>\n",
      "</td>\n",
      "<td>Petroleum industry and Retail\n",
      "</td>\n",
      "<td style=\"text-align:center;\">26.5\n",
      "</td>\n",
      "<td style=\"text-align:center;\">40,000\n",
      "</td>\n",
      "<td><a class=\"mw-redirect\" href=\"/wiki/Oklahoma_City,_Oklahoma\" title=\"Oklahoma City, Oklahoma\">Oklahoma City, Oklahoma</a>\n",
      "</td></tr>\n",
      "<tr>\n",
      "<td>10\n",
      "</td>\n",
      "<td><a href=\"/wiki/Southern_Glazer%27s_Wine_and_Spirits\" title=\"Southern Glazer's Wine and Spirits\">Southern Glazer's Wine and Spirits</a>\n",
      "</td>\n",
      "<td>Food industry\n",
      "</td>\n",
      "<td style=\"text-align:center;\">26.0\n",
      "</td>\n",
      "<td style=\"text-align:center;\">24,000\n",
      "</td>\n",
      "<td><a href=\"/wiki/Miramar,_Florida\" title=\"Miramar, Florida\">Miramar, Florida</a>\n",
      "</td></tr></tbody></table>\n"
     ]
    }
   ],
   "source": [
    "print(table)"
   ]
  },
  {
   "cell_type": "code",
   "execution_count": 7,
   "metadata": {},
   "outputs": [],
   "source": [
    "# Extract all header cells from the table\n",
    "world_titles = table.find_all('th')"
   ]
  },
  {
   "cell_type": "code",
   "execution_count": 8,
   "metadata": {},
   "outputs": [
    {
     "data": {
      "text/plain": [
       "[<th>Rank\n",
       " </th>,\n",
       " <th>Name\n",
       " </th>,\n",
       " <th>Industry\n",
       " </th>,\n",
       " <th>Revenue <br/>(USD billions)\n",
       " </th>,\n",
       " <th>Employees\n",
       " </th>,\n",
       " <th>Headquarters\n",
       " </th>]"
      ]
     },
     "execution_count": 8,
     "metadata": {},
     "output_type": "execute_result"
    }
   ],
   "source": [
    "world_titles"
   ]
  },
  {
   "cell_type": "code",
   "execution_count": 9,
   "metadata": {},
   "outputs": [
    {
     "name": "stdout",
     "output_type": "stream",
     "text": [
      "['Rank', 'Name', 'Industry', 'Revenue (USD billions)', 'Employees', 'Headquarters']\n"
     ]
    }
   ],
   "source": [
    "# Clean and store the header text\n",
    "world_table_titles = [title.text.strip() for title in world_titles]\n",
    "\n",
    "print(world_table_titles)  "
   ]
  },
  {
   "cell_type": "code",
   "execution_count": 10,
   "metadata": {},
   "outputs": [],
   "source": [
    "# Create an empty DataFrame with the headers\n",
    "df = pd.DataFrame(columns=world_table_titles)"
   ]
  },
  {
   "cell_type": "code",
   "execution_count": 11,
   "metadata": {},
   "outputs": [
    {
     "data": {
      "text/html": [
       "<div>\n",
       "<style scoped>\n",
       "    .dataframe tbody tr th:only-of-type {\n",
       "        vertical-align: middle;\n",
       "    }\n",
       "\n",
       "    .dataframe tbody tr th {\n",
       "        vertical-align: top;\n",
       "    }\n",
       "\n",
       "    .dataframe thead th {\n",
       "        text-align: right;\n",
       "    }\n",
       "</style>\n",
       "<table border=\"1\" class=\"dataframe\">\n",
       "  <thead>\n",
       "    <tr style=\"text-align: right;\">\n",
       "      <th></th>\n",
       "      <th>Rank</th>\n",
       "      <th>Name</th>\n",
       "      <th>Industry</th>\n",
       "      <th>Revenue (USD billions)</th>\n",
       "      <th>Employees</th>\n",
       "      <th>Headquarters</th>\n",
       "    </tr>\n",
       "  </thead>\n",
       "  <tbody>\n",
       "  </tbody>\n",
       "</table>\n",
       "</div>"
      ],
      "text/plain": [
       "Empty DataFrame\n",
       "Columns: [Rank, Name, Industry, Revenue (USD billions), Employees, Headquarters]\n",
       "Index: []"
      ]
     },
     "execution_count": 11,
     "metadata": {},
     "output_type": "execute_result"
    }
   ],
   "source": [
    "df"
   ]
  },
  {
   "cell_type": "code",
   "execution_count": 12,
   "metadata": {},
   "outputs": [],
   "source": [
    "# Find all rows (<tr>) in the table\n",
    "column_data = table.find_all('tr')"
   ]
  },
  {
   "cell_type": "code",
   "execution_count": 13,
   "metadata": {},
   "outputs": [],
   "source": [
    "# Iterate over each row (skipping the first row with headers)\n",
    "for row in column_data[1:]:\n",
    "    # Find all data cells (<td>) in the current row\n",
    "    row_data = row.find_all('td')\n",
    "    \n",
    "    # Extract and clean the text from each data cell\n",
    "    individual_row_data = [data.text.strip() for data in row_data]\n",
    "    \n",
    "    # Add the cleaned row data to the DataFrame\n",
    "    length = len(df)  # Get the current length of the DataFrame\n",
    "    df.loc[length] = individual_row_data  # Append the row to the DataFrame\n"
   ]
  },
  {
   "cell_type": "code",
   "execution_count": 14,
   "metadata": {},
   "outputs": [
    {
     "data": {
      "text/html": [
       "<div>\n",
       "<style scoped>\n",
       "    .dataframe tbody tr th:only-of-type {\n",
       "        vertical-align: middle;\n",
       "    }\n",
       "\n",
       "    .dataframe tbody tr th {\n",
       "        vertical-align: top;\n",
       "    }\n",
       "\n",
       "    .dataframe thead th {\n",
       "        text-align: right;\n",
       "    }\n",
       "</style>\n",
       "<table border=\"1\" class=\"dataframe\">\n",
       "  <thead>\n",
       "    <tr style=\"text-align: right;\">\n",
       "      <th></th>\n",
       "      <th>Rank</th>\n",
       "      <th>Name</th>\n",
       "      <th>Industry</th>\n",
       "      <th>Revenue (USD billions)</th>\n",
       "      <th>Employees</th>\n",
       "      <th>Headquarters</th>\n",
       "    </tr>\n",
       "  </thead>\n",
       "  <tbody>\n",
       "    <tr>\n",
       "      <th>0</th>\n",
       "      <td>1</td>\n",
       "      <td>Cargill</td>\n",
       "      <td>Food industry</td>\n",
       "      <td>177</td>\n",
       "      <td>160,000</td>\n",
       "      <td>Minnetonka, Minnesota</td>\n",
       "    </tr>\n",
       "    <tr>\n",
       "      <th>1</th>\n",
       "      <td>2</td>\n",
       "      <td>Koch Industries</td>\n",
       "      <td>Conglomerate</td>\n",
       "      <td>125</td>\n",
       "      <td>120,000</td>\n",
       "      <td>Wichita, Kansas</td>\n",
       "    </tr>\n",
       "    <tr>\n",
       "      <th>2</th>\n",
       "      <td>3</td>\n",
       "      <td>Publix Super Markets</td>\n",
       "      <td>Retail</td>\n",
       "      <td>54.5</td>\n",
       "      <td>250,000</td>\n",
       "      <td>Lakeland, Florida</td>\n",
       "    </tr>\n",
       "    <tr>\n",
       "      <th>3</th>\n",
       "      <td>4</td>\n",
       "      <td>Mars, Incorporated</td>\n",
       "      <td>Food industry</td>\n",
       "      <td>47</td>\n",
       "      <td>140,000</td>\n",
       "      <td>McLean, Virginia</td>\n",
       "    </tr>\n",
       "    <tr>\n",
       "      <th>4</th>\n",
       "      <td>5</td>\n",
       "      <td>H-E-B</td>\n",
       "      <td>Retail</td>\n",
       "      <td>43.6</td>\n",
       "      <td>145,000</td>\n",
       "      <td>San Antonio, Texas</td>\n",
       "    </tr>\n",
       "    <tr>\n",
       "      <th>5</th>\n",
       "      <td>6</td>\n",
       "      <td>Reyes Holdings</td>\n",
       "      <td>Wholesaling</td>\n",
       "      <td>40</td>\n",
       "      <td>36,000</td>\n",
       "      <td>Rosemont, Illinois</td>\n",
       "    </tr>\n",
       "    <tr>\n",
       "      <th>6</th>\n",
       "      <td>7</td>\n",
       "      <td>Enterprise Holdings</td>\n",
       "      <td>Car rental</td>\n",
       "      <td>35</td>\n",
       "      <td>90,000</td>\n",
       "      <td>Clayton, Missouri</td>\n",
       "    </tr>\n",
       "    <tr>\n",
       "      <th>7</th>\n",
       "      <td>8</td>\n",
       "      <td>C&amp;S Wholesale Grocers</td>\n",
       "      <td>Wholesaling</td>\n",
       "      <td>34.7</td>\n",
       "      <td>15,000</td>\n",
       "      <td>Keene, New Hampshire</td>\n",
       "    </tr>\n",
       "    <tr>\n",
       "      <th>8</th>\n",
       "      <td>9</td>\n",
       "      <td>Love's</td>\n",
       "      <td>Petroleum industry and Retail</td>\n",
       "      <td>26.5</td>\n",
       "      <td>40,000</td>\n",
       "      <td>Oklahoma City, Oklahoma</td>\n",
       "    </tr>\n",
       "    <tr>\n",
       "      <th>9</th>\n",
       "      <td>10</td>\n",
       "      <td>Southern Glazer's Wine and Spirits</td>\n",
       "      <td>Food industry</td>\n",
       "      <td>26.0</td>\n",
       "      <td>24,000</td>\n",
       "      <td>Miramar, Florida</td>\n",
       "    </tr>\n",
       "  </tbody>\n",
       "</table>\n",
       "</div>"
      ],
      "text/plain": [
       "  Rank                                Name                       Industry  \\\n",
       "0    1                             Cargill                  Food industry   \n",
       "1    2                     Koch Industries                   Conglomerate   \n",
       "2    3                Publix Super Markets                         Retail   \n",
       "3    4                  Mars, Incorporated                  Food industry   \n",
       "4    5                               H-E-B                         Retail   \n",
       "5    6                      Reyes Holdings                    Wholesaling   \n",
       "6    7                 Enterprise Holdings                     Car rental   \n",
       "7    8               C&S Wholesale Grocers                    Wholesaling   \n",
       "8    9                              Love's  Petroleum industry and Retail   \n",
       "9   10  Southern Glazer's Wine and Spirits                  Food industry   \n",
       "\n",
       "  Revenue (USD billions) Employees             Headquarters  \n",
       "0                    177   160,000    Minnetonka, Minnesota  \n",
       "1                    125   120,000          Wichita, Kansas  \n",
       "2                   54.5   250,000        Lakeland, Florida  \n",
       "3                     47   140,000         McLean, Virginia  \n",
       "4                   43.6   145,000       San Antonio, Texas  \n",
       "5                     40    36,000       Rosemont, Illinois  \n",
       "6                     35    90,000        Clayton, Missouri  \n",
       "7                   34.7    15,000     Keene, New Hampshire  \n",
       "8                   26.5    40,000  Oklahoma City, Oklahoma  \n",
       "9                   26.0    24,000         Miramar, Florida  "
      ]
     },
     "execution_count": 14,
     "metadata": {},
     "output_type": "execute_result"
    }
   ],
   "source": [
    "df"
   ]
  },
  {
   "cell_type": "code",
   "execution_count": 15,
   "metadata": {},
   "outputs": [],
   "source": [
    "# Save the DataFrame to a CSV file without including the index column\n",
    "df.to_csv(r'C:\\Users\\mahes\\OneDrive\\Documents\\Companies_US.csv', index=False)\n"
   ]
  }
 ],
 "metadata": {
  "kernelspec": {
   "display_name": "Python 3",
   "language": "python",
   "name": "python3"
  },
  "language_info": {
   "codemirror_mode": {
    "name": "ipython",
    "version": 3
   },
   "file_extension": ".py",
   "mimetype": "text/x-python",
   "name": "python",
   "nbconvert_exporter": "python",
   "pygments_lexer": "ipython3",
   "version": "3.12.8"
  }
 },
 "nbformat": 4,
 "nbformat_minor": 2
}
